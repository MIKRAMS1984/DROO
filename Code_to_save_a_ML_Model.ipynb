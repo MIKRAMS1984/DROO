{
  "nbformat": 4,
  "nbformat_minor": 0,
  "metadata": {
    "colab": {
      "provenance": [],
      "authorship_tag": "ABX9TyPBV8L1rwD9NEtDALUsfS72",
      "include_colab_link": true
    },
    "kernelspec": {
      "name": "python3",
      "display_name": "Python 3"
    },
    "language_info": {
      "name": "python"
    },
    "gpuClass": "standard",
    "accelerator": "GPU"
  },
  "cells": [
    {
      "cell_type": "markdown",
      "metadata": {
        "id": "view-in-github",
        "colab_type": "text"
      },
      "source": [
        "<a href=\"https://colab.research.google.com/github/MIKRAMS1984/DROO/blob/master/Code_to_save_a_ML_Model.ipynb\" target=\"_parent\"><img src=\"https://colab.research.google.com/assets/colab-badge.svg\" alt=\"Open In Colab\"/></a>"
      ]
    },
    {
      "cell_type": "code",
      "execution_count": null,
      "metadata": {
        "id": "AywtT_ZKuqfK"
      },
      "outputs": [],
      "source": [
        "import torch\n",
        "from torch import nn\n",
        "#Creatin LRM Class\n",
        "class LinearRegressionModel(nn.Module):\n",
        "  def __init__(self):\n",
        "    super().__init__()\n",
        "    self.weights = nn.Parameter(torch.randn(1,\n",
        "                                            requires_grad=True,\n",
        "                                            dtype=torch.float))\n",
        "    self.bias = nn.Parameter(torch.randn(1,\n",
        "                                            requires_grad=True,\n",
        "                                            dtype=torch.float))\n",
        "    \n",
        "#Forward method to define the compuatatoin in the model.\n",
        "  def forward(self, x:torch.Tensor)  -> torch.Tensor:\n",
        "    return self.weights*x + self.bias"
      ]
    },
    {
      "cell_type": "code",
      "source": [
        "import torch\n",
        "torch.manual_seed(42)\n",
        "model_0 = LinearRegressionModel() # calling fun.\n",
        "model_0"
      ],
      "metadata": {
        "colab": {
          "base_uri": "https://localhost:8080/"
        },
        "id": "G8uhx20jRHrx",
        "outputId": "3e7026b2-bc00-40dc-d664-c75b380ad3a4"
      },
      "execution_count": null,
      "outputs": [
        {
          "output_type": "execute_result",
          "data": {
            "text/plain": [
              "LinearRegressionModel()"
            ]
          },
          "metadata": {},
          "execution_count": 22
        }
      ]
    },
    {
      "cell_type": "code",
      "source": [
        "list(model_0.parameters())"
      ],
      "metadata": {
        "colab": {
          "base_uri": "https://localhost:8080/"
        },
        "id": "pQK6v8OiR2RS",
        "outputId": "86633ac3-747b-4a4c-c054-45bee1133681"
      },
      "execution_count": null,
      "outputs": [
        {
          "output_type": "execute_result",
          "data": {
            "text/plain": [
              "[Parameter containing:\n",
              " tensor([0.3367], requires_grad=True), Parameter containing:\n",
              " tensor([0.1288], requires_grad=True)]"
            ]
          },
          "metadata": {},
          "execution_count": 23
        }
      ]
    },
    {
      "cell_type": "code",
      "source": [
        "model_0.state_dict()"
      ],
      "metadata": {
        "colab": {
          "base_uri": "https://localhost:8080/"
        },
        "id": "rChIqvreVQJC",
        "outputId": "b9b9b3a4-b258-431f-b432-7512c5a77bee"
      },
      "execution_count": null,
      "outputs": [
        {
          "output_type": "execute_result",
          "data": {
            "text/plain": [
              "OrderedDict([('weights', tensor([0.3367])), ('bias', tensor([0.1288]))])"
            ]
          },
          "metadata": {},
          "execution_count": 24
        }
      ]
    },
    {
      "cell_type": "code",
      "source": [
        "import matplotlib.pyplot as plt\n",
        "\n",
        "\n",
        "weight = 0.7\n",
        "bias =0.3\n",
        "start = 0\n",
        "end = 1\n",
        "step = 0.02\n",
        "X =  torch.arange(start,end,step). unsqueeze(dim=1)\n",
        "X,X.shape\n",
        "y = weight*X + bias \n",
        "X[:10], y[:10], len(X), len(y)\n",
        "\n",
        "train_split = int(0.8*len(X))\n",
        "X_train, y_train = X[:train_split], y[:train_split]\n",
        "X_test, y_test = X[train_split:], y[train_split:]\n",
        "\n",
        "len(X_train), len(y_train), len(X_test), len(y_test)\n",
        "\n",
        "def plot_predictions(train_data = X_train,\n",
        "                     train_labels = y_train,\n",
        "                     test_data = X_test,\n",
        "                     test_labels = y_test,\n",
        "                     predictions = None):\n",
        "  plt.figure(figsize=(10,7))\n",
        "  plt.scatter(train_data, train_labels, c='b', s=4, label=\"Training data set\")\n",
        "  plt.scatter(test_data, test_labels, c='g', s=4, label=\"Testing data set\")\n",
        "  if predictions is not None:\n",
        "    plt.scatter(test_data, predictions, c='r', s=4, label=\"Predictions\")\n",
        "  plt.legend(prop={\"size\":14})\n",
        "\n",
        "plot_predictions() # calling fun.\n"
      ],
      "metadata": {
        "colab": {
          "base_uri": "https://localhost:8080/",
          "height": 428
        },
        "id": "7SQdj8olvK1B",
        "outputId": "55ebb3fa-a8c1-49bf-ca82-0cc67dff001c"
      },
      "execution_count": null,
      "outputs": [
        {
          "output_type": "display_data",
          "data": {
            "text/plain": [
              "<Figure size 720x504 with 1 Axes>"
            ],
            "image/png": "[encoded data removed]"
          },
          "metadata": {
            "needs_background": "light"
          }
        }
      ]
    },
    {
      "cell_type": "code",
      "source": [
        "#Make predictions with models\n",
        "with torch.inference_mode():\n",
        "  y_preds = model_0(X_test)\n",
        "y_preds\n",
        "\n",
        "plot_predictions(predictions=y_preds)"
      ],
      "metadata": {
        "colab": {
          "base_uri": "https://localhost:8080/",
          "height": 428
        },
        "id": "htMyttz4VWXi",
        "outputId": "c62e225a-0e5e-45d5-8b15-374b436b8305"
      },
      "execution_count": null,
      "outputs": [
        {
          "output_type": "display_data",
          "data": {
            "text/plain": [
              "<Figure size 720x504 with 1 Axes>"
            ],
            "image/png": "[encoded data removed]"
          },
          "metadata": {
            "needs_background": "light"
          }
        }
      ]
    },
    {
      "cell_type": "code",
      "source": [
        "import torch\n",
        "import torch.nn as nn\n",
        "#setup a loss fun.\n",
        "loss_fn = nn.L1Loss()\n",
        "#setup an optimizer.\n",
        "optimizer = torch.optim.SGD(params = model_0.parameters(),\n",
        "                           lr = 0.1) #lr is hyperparameter"
      ],
      "metadata": {
        "id": "-xqhIPHLZZ0W"
      },
      "execution_count": null,
      "outputs": []
    },
    {
      "cell_type": "code",
      "source": [
        "torch.randn(1)"
      ],
      "metadata": {
        "colab": {
          "base_uri": "https://localhost:8080/"
        },
        "id": "6tFS1FtqTZMc",
        "outputId": "e5d16f77-7896-4cd3-fc9c-16ab12c31bff"
      },
      "execution_count": null,
      "outputs": [
        {
          "output_type": "execute_result",
          "data": {
            "text/plain": [
              "tensor([0.2345])"
            ]
          },
          "metadata": {},
          "execution_count": 28
        }
      ]
    },
    {
      "cell_type": "code",
      "source": [
        "# 5 Building blocks for creating a NN or Computaional Graph\n",
        "\n",
        "#1.torch.nn\n",
        "#2.torch.nn.Parameter\n",
        "#3.torch.nn.Module\n",
        "#4.torch.optim\n",
        "#5.def forward()\n",
        "#6.torch.utils.data.Dataset\n",
        "#7.torch.utils.data.DataLoader\n"
      ],
      "metadata": {
        "id": "S2YrB0n-NXIH"
      },
      "execution_count": null,
      "outputs": []
    },
    {
      "cell_type": "code",
      "source": [
        "#Building a training loop and a testing loop in pytorch.\n",
        "torch.manual_seed(42)\n",
        "#An epoc is the one loop through the data, it is hyperparameter because we set it\n",
        "#explicitly.\n",
        "epochs = 200\n",
        "epoch_count = []\n",
        "loss_values = []\n",
        "test_loss_values = []\n",
        "\n",
        "\n",
        "#Training\n",
        "\n",
        "#0. loop through the data\n",
        "for epoch in range(epochs):\n",
        "     #1. set the model to training mode\n",
        "    model_0.train() #gradients on\n",
        "    \n",
        "    #1. forward propagation\n",
        "    y_pred = model_0(X_train)\n",
        "\n",
        "    #2. calculate loss\n",
        "    loss = loss_fn(y_pred, y_train)\n",
        "    print(f\"Loss: {loss}\")\n",
        "\n",
        "    #3. optimizer zero grad\n",
        "    optimizer.zero_grad()\n",
        "\n",
        "    #4. perform backpropagation w.r.t. to model parameters\n",
        "    loss.backward()\n",
        "\n",
        "   #5. Step the optimizer, perform GD\n",
        "    optimizer.step()\n",
        "\n",
        "   #Testing\n",
        "\n",
        "    model_0.eval()\n",
        "    with torch.inference_mode():\n",
        "      #1. Do the Forward propagation.\n",
        "      test_pred = model_0(X_test)\n",
        "      #2. Loss Calcuation.\n",
        "      test_loss = loss_fn(test_pred, y_test) \n",
        "\n",
        "    if epoch % 10 == 0:\n",
        "     epoch_count.append(epoch)\n",
        "     loss_values.append(loss)\n",
        "     test_loss_values.append(test_loss)\n",
        "     print(f\"Epoch:{epoch} | Loss:{loss} | Test loss: {test_loss}\")\n",
        "     #print model state_dict()\n",
        "     print(model_0.state_dict())  \n",
        "\n"
      ],
      "metadata": {
        "colab": {
          "base_uri": "https://localhost:8080/"
        },
        "id": "_RTGLv7juT5s",
        "outputId": "be494b37-964c-46bc-8f9a-566b169385f0"
      },
      "execution_count": null,
      "outputs": [
        {
          "output_type": "stream",
          "name": "stdout",
          "text": [
            "Loss: 0.31288138031959534\n",
            "Epoch:0 | Loss:0.31288138031959534 | Test loss: 0.35982614755630493\n",
            "OrderedDict([('weights', tensor([0.3757])), ('bias', tensor([0.2288]))])\n",
            "Loss: 0.1976713389158249\n",
            "Loss: 0.08682452142238617\n",
            "Loss: 0.04956193268299103\n",
            "Loss: 0.04610266909003258\n",
            "Loss: 0.04258420318365097\n",
            "Loss: 0.03921257331967354\n",
            "Loss: 0.03573219105601311\n",
            "Loss: 0.032322462648153305\n",
            "Loss: 0.028880193829536438\n",
            "Loss: 0.025432366877794266\n",
            "Epoch:10 | Loss:0.025432366877794266 | Test loss: 0.05427704378962517\n",
            "OrderedDict([('weights', tensor([0.5898])), ('bias', tensor([0.3438]))])\n",
            "Loss: 0.022041911259293556\n",
            "Loss: 0.019071225076913834\n",
            "Loss: 0.018788114190101624\n",
            "Loss: 0.039773717522621155\n",
            "Loss: 0.07543627172708511\n",
            "Loss: 0.039773717522621155\n",
            "Loss: 0.07543627172708511\n",
            "Loss: 0.039773717522621155\n",
            "Loss: 0.07543627172708511\n",
            "Loss: 0.039773717522621155\n",
            "Epoch:20 | Loss:0.039773717522621155 | Test loss: 0.11934101581573486\n",
            "OrderedDict([('weights', tensor([0.6122])), ('bias', tensor([0.2588]))])\n",
            "Loss: 0.07543627172708511\n",
            "Loss: 0.039773717522621155\n",
            "Loss: 0.07543627172708511\n",
            "Loss: 0.039773717522621155\n",
            "Loss: 0.07543627172708511\n",
            "Loss: 0.039773717522621155\n",
            "Loss: 0.07543627172708511\n",
            "Loss: 0.039773717522621155\n",
            "Loss: 0.07543627172708511\n",
            "Loss: 0.039773717522621155\n",
            "Epoch:30 | Loss:0.039773717522621155 | Test loss: 0.11934101581573486\n",
            "OrderedDict([('weights', tensor([0.6122])), ('bias', tensor([0.2588]))])\n",
            "Loss: 0.07543627172708511\n",
            "Loss: 0.039773717522621155\n",
            "Loss: 0.07543627172708511\n",
            "Loss: 0.039773717522621155\n",
            "Loss: 0.07543627172708511\n",
            "Loss: 0.039773717522621155\n",
            "Loss: 0.07543627172708511\n",
            "Loss: 0.039773717522621155\n",
            "Loss: 0.07543627172708511\n",
            "Loss: 0.039773717522621155\n",
            "Epoch:40 | Loss:0.039773717522621155 | Test loss: 0.11934101581573486\n",
            "OrderedDict([('weights', tensor([0.6122])), ('bias', tensor([0.2588]))])\n",
            "Loss: 0.07543627172708511\n",
            "Loss: 0.039773717522621155\n",
            "Loss: 0.07543627172708511\n",
            "Loss: 0.039773717522621155\n",
            "Loss: 0.07543627172708511\n",
            "Loss: 0.039773717522621155\n",
            "Loss: 0.07543627172708511\n",
            "Loss: 0.039773717522621155\n",
            "Loss: 0.07543627172708511\n",
            "Loss: 0.039773717522621155\n",
            "Epoch:50 | Loss:0.039773717522621155 | Test loss: 0.11934101581573486\n",
            "OrderedDict([('weights', tensor([0.6122])), ('bias', tensor([0.2588]))])\n",
            "Loss: 0.07543627172708511\n",
            "Loss: 0.039773717522621155\n",
            "Loss: 0.07543627172708511\n",
            "Loss: 0.039773717522621155\n",
            "Loss: 0.07543627172708511\n",
            "Loss: 0.039773717522621155\n",
            "Loss: 0.07543627172708511\n",
            "Loss: 0.039773717522621155\n",
            "Loss: 0.07543627172708511\n",
            "Loss: 0.039773717522621155\n",
            "Epoch:60 | Loss:0.039773717522621155 | Test loss: 0.11934101581573486\n",
            "OrderedDict([('weights', tensor([0.6122])), ('bias', tensor([0.2588]))])\n",
            "Loss: 0.07543627172708511\n",
            "Loss: 0.039773717522621155\n",
            "Loss: 0.07543627172708511\n",
            "Loss: 0.039773717522621155\n",
            "Loss: 0.07543627172708511\n",
            "Loss: 0.039773717522621155\n",
            "Loss: 0.07543627172708511\n",
            "Loss: 0.039773717522621155\n",
            "Loss: 0.07543627172708511\n",
            "Loss: 0.039773717522621155\n",
            "Epoch:70 | Loss:0.039773717522621155 | Test loss: 0.11934101581573486\n",
            "OrderedDict([('weights', tensor([0.6122])), ('bias', tensor([0.2588]))])\n",
            "Loss: 0.07543627172708511\n",
            "Loss: 0.039773717522621155\n",
            "Loss: 0.07543627172708511\n",
            "Loss: 0.039773717522621155\n",
            "Loss: 0.07543627172708511\n",
            "Loss: 0.039773717522621155\n",
            "Loss: 0.07543627172708511\n",
            "Loss: 0.039773717522621155\n",
            "Loss: 0.07543627172708511\n",
            "Loss: 0.039773717522621155\n",
            "Epoch:80 | Loss:0.039773717522621155 | Test loss: 0.11934101581573486\n",
            "OrderedDict([('weights', tensor([0.6122])), ('bias', tensor([0.2588]))])\n",
            "Loss: 0.07543627172708511\n",
            "Loss: 0.039773717522621155\n",
            "Loss: 0.07543627172708511\n",
            "Loss: 0.039773717522621155\n",
            "Loss: 0.07543627172708511\n",
            "Loss: 0.039773717522621155\n",
            "Loss: 0.07543627172708511\n",
            "Loss: 0.039773717522621155\n",
            "Loss: 0.07543627172708511\n",
            "Loss: 0.039773717522621155\n",
            "Epoch:90 | Loss:0.039773717522621155 | Test loss: 0.11934101581573486\n",
            "OrderedDict([('weights', tensor([0.6122])), ('bias', tensor([0.2588]))])\n",
            "Loss: 0.07543627172708511\n",
            "Loss: 0.039773717522621155\n",
            "Loss: 0.07543627172708511\n",
            "Loss: 0.039773717522621155\n",
            "Loss: 0.07543627172708511\n",
            "Loss: 0.039773717522621155\n",
            "Loss: 0.07543627172708511\n",
            "Loss: 0.039773717522621155\n",
            "Loss: 0.07543627172708511\n",
            "Loss: 0.039773717522621155\n",
            "Epoch:100 | Loss:0.039773717522621155 | Test loss: 0.11934101581573486\n",
            "OrderedDict([('weights', tensor([0.6122])), ('bias', tensor([0.2588]))])\n",
            "Loss: 0.07543627172708511\n",
            "Loss: 0.039773717522621155\n",
            "Loss: 0.07543627172708511\n",
            "Loss: 0.039773717522621155\n",
            "Loss: 0.07543627172708511\n",
            "Loss: 0.039773717522621155\n",
            "Loss: 0.07543627172708511\n",
            "Loss: 0.039773717522621155\n",
            "Loss: 0.07543627172708511\n",
            "Loss: 0.039773717522621155\n",
            "Epoch:110 | Loss:0.039773717522621155 | Test loss: 0.11934101581573486\n",
            "OrderedDict([('weights', tensor([0.6122])), ('bias', tensor([0.2588]))])\n",
            "Loss: 0.07543627172708511\n",
            "Loss: 0.039773717522621155\n",
            "Loss: 0.07543627172708511\n",
            "Loss: 0.039773717522621155\n",
            "Loss: 0.07543627172708511\n",
            "Loss: 0.039773717522621155\n",
            "Loss: 0.07543627172708511\n",
            "Loss: 0.039773717522621155\n",
            "Loss: 0.07543627172708511\n",
            "Loss: 0.039773717522621155\n",
            "Epoch:120 | Loss:0.039773717522621155 | Test loss: 0.11934101581573486\n",
            "OrderedDict([('weights', tensor([0.6122])), ('bias', tensor([0.2588]))])\n",
            "Loss: 0.07543627172708511\n",
            "Loss: 0.039773717522621155\n",
            "Loss: 0.07543627172708511\n",
            "Loss: 0.039773717522621155\n",
            "Loss: 0.07543627172708511\n",
            "Loss: 0.039773717522621155\n",
            "Loss: 0.07543627172708511\n",
            "Loss: 0.039773717522621155\n",
            "Loss: 0.07543627172708511\n",
            "Loss: 0.039773717522621155\n",
            "Epoch:130 | Loss:0.039773717522621155 | Test loss: 0.11934101581573486\n",
            "OrderedDict([('weights', tensor([0.6122])), ('bias', tensor([0.2588]))])\n",
            "Loss: 0.07543627172708511\n",
            "Loss: 0.039773717522621155\n",
            "Loss: 0.07543627172708511\n",
            "Loss: 0.039773717522621155\n",
            "Loss: 0.07543627172708511\n",
            "Loss: 0.039773717522621155\n",
            "Loss: 0.07543627172708511\n",
            "Loss: 0.039773717522621155\n",
            "Loss: 0.07543627172708511\n",
            "Loss: 0.039773717522621155\n",
            "Epoch:140 | Loss:0.039773717522621155 | Test loss: 0.11934101581573486\n",
            "OrderedDict([('weights', tensor([0.6122])), ('bias', tensor([0.2588]))])\n",
            "Loss: 0.07543627172708511\n",
            "Loss: 0.039773717522621155\n",
            "Loss: 0.07543627172708511\n",
            "Loss: 0.039773717522621155\n",
            "Loss: 0.07543627172708511\n",
            "Loss: 0.039773717522621155\n",
            "Loss: 0.07543627172708511\n",
            "Loss: 0.039773717522621155\n",
            "Loss: 0.07543627172708511\n",
            "Loss: 0.039773717522621155\n",
            "Epoch:150 | Loss:0.039773717522621155 | Test loss: 0.11934101581573486\n",
            "OrderedDict([('weights', tensor([0.6122])), ('bias', tensor([0.2588]))])\n",
            "Loss: 0.07543627172708511\n",
            "Loss: 0.039773717522621155\n",
            "Loss: 0.07543627172708511\n",
            "Loss: 0.039773717522621155\n",
            "Loss: 0.07543627172708511\n",
            "Loss: 0.039773717522621155\n",
            "Loss: 0.07543627172708511\n",
            "Loss: 0.039773717522621155\n",
            "Loss: 0.07543627172708511\n",
            "Loss: 0.039773717522621155\n",
            "Epoch:160 | Loss:0.039773717522621155 | Test loss: 0.11934101581573486\n",
            "OrderedDict([('weights', tensor([0.6122])), ('bias', tensor([0.2588]))])\n",
            "Loss: 0.07543627172708511\n",
            "Loss: 0.039773717522621155\n",
            "Loss: 0.07543627172708511\n",
            "Loss: 0.039773717522621155\n",
            "Loss: 0.07543627172708511\n",
            "Loss: 0.039773717522621155\n",
            "Loss: 0.07543627172708511\n",
            "Loss: 0.039773717522621155\n",
            "Loss: 0.07543627172708511\n",
            "Loss: 0.039773717522621155\n",
            "Epoch:170 | Loss:0.039773717522621155 | Test loss: 0.11934101581573486\n",
            "OrderedDict([('weights', tensor([0.6122])), ('bias', tensor([0.2588]))])\n",
            "Loss: 0.07543627172708511\n",
            "Loss: 0.039773717522621155\n",
            "Loss: 0.07543627172708511\n",
            "Loss: 0.039773717522621155\n",
            "Loss: 0.07543627172708511\n",
            "Loss: 0.039773717522621155\n",
            "Loss: 0.07543627172708511\n",
            "Loss: 0.039773717522621155\n",
            "Loss: 0.07543627172708511\n",
            "Loss: 0.039773717522621155\n",
            "Epoch:180 | Loss:0.039773717522621155 | Test loss: 0.11934101581573486\n",
            "OrderedDict([('weights', tensor([0.6122])), ('bias', tensor([0.2588]))])\n",
            "Loss: 0.07543627172708511\n",
            "Loss: 0.039773717522621155\n",
            "Loss: 0.07543627172708511\n",
            "Loss: 0.039773717522621155\n",
            "Loss: 0.07543627172708511\n",
            "Loss: 0.039773717522621155\n",
            "Loss: 0.07543627172708511\n",
            "Loss: 0.039773717522621155\n",
            "Loss: 0.07543627172708511\n",
            "Loss: 0.039773717522621155\n",
            "Epoch:190 | Loss:0.039773717522621155 | Test loss: 0.11934101581573486\n",
            "OrderedDict([('weights', tensor([0.6122])), ('bias', tensor([0.2588]))])\n",
            "Loss: 0.07543627172708511\n",
            "Loss: 0.039773717522621155\n",
            "Loss: 0.07543627172708511\n",
            "Loss: 0.039773717522621155\n",
            "Loss: 0.07543627172708511\n",
            "Loss: 0.039773717522621155\n",
            "Loss: 0.07543627172708511\n",
            "Loss: 0.039773717522621155\n",
            "Loss: 0.07543627172708511\n"
          ]
        }
      ]
    },
    {
      "cell_type": "code",
      "source": [
        "with torch.inference_mode():\n",
        "  y_preds_new = model_0(X_test)\n",
        "  "
      ],
      "metadata": {
        "id": "yrMSqiFZGvZn"
      },
      "execution_count": null,
      "outputs": []
    },
    {
      "cell_type": "code",
      "source": [
        "model_0.state_dict()"
      ],
      "metadata": {
        "colab": {
          "base_uri": "https://localhost:8080/"
        },
        "id": "Zph9hWmAHHRr",
        "outputId": "e2a1f0b8-1129-4ce7-bdb9-caf7012b0d99"
      },
      "execution_count": null,
      "outputs": [
        {
          "output_type": "execute_result",
          "data": {
            "text/plain": [
              "OrderedDict([('weights', tensor([0.6512])), ('bias', tensor([0.3588]))])"
            ]
          },
          "metadata": {},
          "execution_count": 32
        }
      ]
    },
    {
      "cell_type": "code",
      "source": [
        "plot_predictions(predictions = y_preds);"
      ],
      "metadata": {
        "colab": {
          "base_uri": "https://localhost:8080/",
          "height": 428
        },
        "id": "kGzXae7oHP4z",
        "outputId": "1d016759-0be7-4410-92fa-2e3df68850e0"
      },
      "execution_count": null,
      "outputs": [
        {
          "output_type": "display_data",
          "data": {
            "text/plain": [
              "<Figure size 720x504 with 1 Axes>"
            ],
            "image/png": "[encoded data removed]"
          },
          "metadata": {
            "needs_background": "light"
          }
        }
      ]
    },
    {
      "cell_type": "code",
      "source": [
        "plot_predictions(predictions = y_preds_new);"
      ],
      "metadata": {
        "colab": {
          "base_uri": "https://localhost:8080/",
          "height": 428
        },
        "id": "LFH5mztBHrcj",
        "outputId": "3cf91fc6-020f-4d82-e4f3-ddf750b2793f"
      },
      "execution_count": null,
      "outputs": [
        {
          "output_type": "display_data",
          "data": {
            "text/plain": [
              "<Figure size 720x504 with 1 Axes>"
            ],
            "image/png": "[encoded data removed]"
          },
          "metadata": {
            "needs_background": "light"
          }
        }
      ]
    },
    {
      "cell_type": "code",
      "source": [
        "epoch_count, loss_values, test_loss_values"
      ],
      "metadata": {
        "colab": {
          "base_uri": "https://localhost:8080/"
        },
        "id": "DRIZaEq0JrbD",
        "outputId": "18d439f7-e1b5-42c9-c295-6515e6df45cb"
      },
      "execution_count": null,
      "outputs": [
        {
          "output_type": "execute_result",
          "data": {
            "text/plain": [
              "([0,\n",
              "  10,\n",
              "  20,\n",
              "  30,\n",
              "  40,\n",
              "  50,\n",
              "  60,\n",
              "  70,\n",
              "  80,\n",
              "  90,\n",
              "  100,\n",
              "  110,\n",
              "  120,\n",
              "  130,\n",
              "  140,\n",
              "  150,\n",
              "  160,\n",
              "  170,\n",
              "  180,\n",
              "  190],\n",
              " [tensor(0.3129, grad_fn=<L1LossBackward0>),\n",
              "  tensor(0.0254, grad_fn=<L1LossBackward0>),\n",
              "  tensor(0.0398, grad_fn=<L1LossBackward0>),\n",
              "  tensor(0.0398, grad_fn=<L1LossBackward0>),\n",
              "  tensor(0.0398, grad_fn=<L1LossBackward0>),\n",
              "  tensor(0.0398, grad_fn=<L1LossBackward0>),\n",
              "  tensor(0.0398, grad_fn=<L1LossBackward0>),\n",
              "  tensor(0.0398, grad_fn=<L1LossBackward0>),\n",
              "  tensor(0.0398, grad_fn=<L1LossBackward0>),\n",
              "  tensor(0.0398, grad_fn=<L1LossBackward0>),\n",
              "  tensor(0.0398, grad_fn=<L1LossBackward0>),\n",
              "  tensor(0.0398, grad_fn=<L1LossBackward0>),\n",
              "  tensor(0.0398, grad_fn=<L1LossBackward0>),\n",
              "  tensor(0.0398, grad_fn=<L1LossBackward0>),\n",
              "  tensor(0.0398, grad_fn=<L1LossBackward0>),\n",
              "  tensor(0.0398, grad_fn=<L1LossBackward0>),\n",
              "  tensor(0.0398, grad_fn=<L1LossBackward0>),\n",
              "  tensor(0.0398, grad_fn=<L1LossBackward0>),\n",
              "  tensor(0.0398, grad_fn=<L1LossBackward0>),\n",
              "  tensor(0.0398, grad_fn=<L1LossBackward0>)],\n",
              " [tensor(0.3598),\n",
              "  tensor(0.0543),\n",
              "  tensor(0.1193),\n",
              "  tensor(0.1193),\n",
              "  tensor(0.1193),\n",
              "  tensor(0.1193),\n",
              "  tensor(0.1193),\n",
              "  tensor(0.1193),\n",
              "  tensor(0.1193),\n",
              "  tensor(0.1193),\n",
              "  tensor(0.1193),\n",
              "  tensor(0.1193),\n",
              "  tensor(0.1193),\n",
              "  tensor(0.1193),\n",
              "  tensor(0.1193),\n",
              "  tensor(0.1193),\n",
              "  tensor(0.1193),\n",
              "  tensor(0.1193),\n",
              "  tensor(0.1193),\n",
              "  tensor(0.1193)])"
            ]
          },
          "metadata": {},
          "execution_count": 35
        }
      ]
    },
    {
      "cell_type": "code",
      "source": [
        "import numpy as np\n",
        "plt.plot(epoch_count, np.array(torch.tensor(loss_values).numpy()), label = \"Train Loss\")\n",
        "plt.plot(epoch_count, test_loss_values, label = \"Test Loss\")\n",
        "plt.title(\"training and testing curves\")\n",
        "plt.ylabel(\"Loss\")\n",
        "plt.xlabel(\"Epochs\")\n",
        "plt.legend();\n",
        "\n"
      ],
      "metadata": {
        "colab": {
          "base_uri": "https://localhost:8080/",
          "height": 295
        },
        "id": "-QBH8K8oKSCV",
        "outputId": "cd986845-caae-469a-ece9-abc12e8201c4"
      },
      "execution_count": null,
      "outputs": [
        {
          "output_type": "display_data",
          "data": {
            "text/plain": [
              "<Figure size 432x288 with 1 Axes>"
            ],
            "image/png": "[encoded data removed]"
          },
          "metadata": {
            "needs_background": "light"
          }
        }
      ]
    },
    {
      "cell_type": "code",
      "source": [
        "# Saving a model in pytorch\n",
        "# torch.save()\n",
        "# torch.load()\n",
        "# torch.nn.Module.load_state_dict()\n",
        "model_0\n",
        "modle_0.state_dict()\n"
      ],
      "metadata": {
        "id": "2n8YYyFjPO5i"
      },
      "execution_count": null,
      "outputs": []
    },
    {
      "cell_type": "code",
      "source": [
        "# Saving our pytorch model\n",
        "from pathlib import Path\n",
        "\n",
        "# 1. Create model directory\n",
        "MODEL_PATH = Path(\"MODELS\")\n",
        "MODEL_PATH.mkdir(parents=True, exist_ok=True)\n",
        "\n",
        "# 2. Create model save path\n",
        "\n",
        "MODEL_NAME = \"01_pytorch_workflow_model_0.pth\"\n",
        "MODEL_SAVE_PATH = MODEL_PATH / MODEL_NAME\n",
        "\n",
        "MODEL_SAVE_PATH\n",
        "\n",
        "# 3. Save the model state dict\n",
        "print(f\"Saving model to: {MODEL_SAVE_PATH}\")\n",
        "torch.save(obj=model_0.state_dict(),\n",
        "           f=MODEL_SAVE_PATH)\n",
        "\n",
        "\n",
        "\n",
        "\n"
      ],
      "metadata": {
        "id": "k0opPEUcXqBY"
      },
      "execution_count": null,
      "outputs": []
    },
    {
      "cell_type": "code",
      "source": [
        "!ls -1 MODELS"
      ],
      "metadata": {
        "colab": {
          "base_uri": "https://localhost:8080/"
        },
        "id": "t4jfXeSKbpNh",
        "outputId": "f36ff624-aa29-47e3-d197-6d142c08a207"
      },
      "execution_count": null,
      "outputs": [
        {
          "output_type": "stream",
          "name": "stdout",
          "text": [
            "01_pytorch_workflow_model_0.pth\n"
          ]
        }
      ]
    },
    {
      "cell_type": "code",
      "source": [
        "# Loading a model\n",
        "model0.state_dict()"
      ],
      "metadata": {
        "colab": {
          "base_uri": "https://localhost:8080/",
          "height": 183
        },
        "id": "3KNvNRLdb9oU",
        "outputId": "6ed3538b-e25c-41e6-ad3f-b90ab7c038a8"
      },
      "execution_count": null,
      "outputs": [
        {
          "output_type": "error",
          "ename": "NameError",
          "evalue": "ignored",
          "traceback": [
            "\u001b[0;31m---------------------------------------------------------------------------\u001b[0m",
            "\u001b[0;31mNameError\u001b[0m                                 Traceback (most recent call last)",
            "\u001b[0;32m<ipython-input-46-3cefe552fc65>\u001b[0m in \u001b[0;36m<module>\u001b[0;34m\u001b[0m\n\u001b[1;32m      1\u001b[0m \u001b[0;31m# Loading a model\u001b[0m\u001b[0;34m\u001b[0m\u001b[0;34m\u001b[0m\u001b[0;34m\u001b[0m\u001b[0m\n\u001b[0;32m----> 2\u001b[0;31m \u001b[0mmodel0\u001b[0m\u001b[0;34m.\u001b[0m\u001b[0mstate_dict\u001b[0m\u001b[0;34m(\u001b[0m\u001b[0;34m)\u001b[0m\u001b[0;34m\u001b[0m\u001b[0;34m\u001b[0m\u001b[0m\n\u001b[0m",
            "\u001b[0;31mNameError\u001b[0m: name 'model0' is not defined"
          ]
        }
      ]
    }
  ]
}
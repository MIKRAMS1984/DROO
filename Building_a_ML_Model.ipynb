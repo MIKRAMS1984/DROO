{
  "nbformat": 4,
  "nbformat_minor": 0,
  "metadata": {
    "colab": {
      "provenance": [],
      "authorship_tag": "ABX9TyODoJkJjunoM+g8YtmuIB5m",
      "include_colab_link": true
    },
    "kernelspec": {
      "name": "python3",
      "display_name": "Python 3"
    },
    "language_info": {
      "name": "python"
    },
    "gpuClass": "standard",
    "accelerator": "GPU"
  },
  "cells": [
    {
      "cell_type": "markdown",
      "metadata": {
        "id": "view-in-github",
        "colab_type": "text"
      },
      "source": [
        "<a href=\"https://colab.research.google.com/github/MIKRAMS1984/DROO/blob/master/Building_a_ML_Model.ipynb\" target=\"_parent\"><img src=\"https://colab.research.google.com/assets/colab-badge.svg\" alt=\"Open In Colab\"/></a>"
      ]
    },
    {
      "cell_type": "code",
      "execution_count": 1,
      "metadata": {
        "id": "AywtT_ZKuqfK"
      },
      "outputs": [],
      "source": [
        "import torch\n",
        "from torch import nn\n",
        "#Creatin LRM Class\n",
        "class LinearRegressionModel(nn.Module):\n",
        "  def __init__(self):\n",
        "    super().__init__()\n",
        "    self.weights = nn.Parameter(torch.randn(1,\n",
        "                                            requires_grad=True,\n",
        "                                            dtype=torch.float))\n",
        "    self.bias = nn.Parameter(torch.randn(1,\n",
        "                                            requires_grad=True,\n",
        "                                            dtype=torch.float))\n",
        "    \n",
        "#Forward method to define the compuatatoin in the model.\n",
        "  def forward(self, x:torch.Tensor)  -> torch.Tensor:\n",
        "    return self.weights*x + self.bias"
      ]
    },
    {
      "cell_type": "code",
      "source": [
        "import torch\n",
        "torch.manual_seed(42)\n",
        "model_0 = LinearRegressionModel() # calling fun.\n",
        "model_0"
      ],
      "metadata": {
        "colab": {
          "base_uri": "https://localhost:8080/"
        },
        "id": "G8uhx20jRHrx",
        "outputId": "fac43ed7-0f82-480b-a2ea-360e4508ead2"
      },
      "execution_count": 2,
      "outputs": [
        {
          "output_type": "execute_result",
          "data": {
            "text/plain": [
              "LinearRegressionModel()"
            ]
          },
          "metadata": {},
          "execution_count": 2
        }
      ]
    },
    {
      "cell_type": "code",
      "source": [
        "list(model_0.parameters())"
      ],
      "metadata": {
        "colab": {
          "base_uri": "https://localhost:8080/"
        },
        "id": "pQK6v8OiR2RS",
        "outputId": "dc9896e4-8a6f-4bfc-fbc6-6b6bb6713672"
      },
      "execution_count": 3,
      "outputs": [
        {
          "output_type": "execute_result",
          "data": {
            "text/plain": [
              "[Parameter containing:\n",
              " tensor([0.3367], requires_grad=True), Parameter containing:\n",
              " tensor([0.1288], requires_grad=True)]"
            ]
          },
          "metadata": {},
          "execution_count": 3
        }
      ]
    },
    {
      "cell_type": "code",
      "source": [
        "model_0.state_dict()"
      ],
      "metadata": {
        "colab": {
          "base_uri": "https://localhost:8080/"
        },
        "id": "rChIqvreVQJC",
        "outputId": "82ffa45b-dbcc-43fb-e7f8-1121dd6cf2c4"
      },
      "execution_count": 4,
      "outputs": [
        {
          "output_type": "execute_result",
          "data": {
            "text/plain": [
              "OrderedDict([('weights', tensor([0.3367])), ('bias', tensor([0.1288]))])"
            ]
          },
          "metadata": {},
          "execution_count": 4
        }
      ]
    },
    {
      "cell_type": "code",
      "source": [
        "import matplotlib.pyplot as plt\n",
        "\n",
        "\n",
        "weight = 0.7\n",
        "bias =0.3\n",
        "start = 0\n",
        "end = 1\n",
        "step = 0.02\n",
        "X =  torch.arange(start,end,step). unsqueeze(dim=1)\n",
        "X,X.shape\n",
        "y = weight*X + bias \n",
        "X[:10], y[:10], len(X), len(y)\n",
        "\n",
        "train_split = int(0.8*len(X))\n",
        "X_train, y_train = X[:train_split], y[:train_split]\n",
        "X_test, y_test = X[train_split:], y[train_split:]\n",
        "\n",
        "len(X_train), len(y_train), len(X_test), len(y_test)\n",
        "\n",
        "def plot_predictions(train_data = X_train,\n",
        "                     train_labels = y_train,\n",
        "                     test_data = X_test,\n",
        "                     test_labels = y_test,\n",
        "                     predictions = None):\n",
        "  plt.figure(figsize=(10,7))\n",
        "  plt.scatter(train_data, train_labels, c='b', s=4, label=\"Training data set\")\n",
        "  plt.scatter(test_data, test_labels, c='g', s=4, label=\"Testing data set\")\n",
        "  if predictions is not None:\n",
        "    plt.scatter(test_data, predictions, c='r', s=4, label=\"Predictions\")\n",
        "  plt.legend(prop={\"size\":14})\n",
        "\n",
        "plot_predictions() # calling fun.\n"
      ],
      "metadata": {
        "colab": {
          "base_uri": "https://localhost:8080/",
          "height": 428
        },
        "id": "7SQdj8olvK1B",
        "outputId": "64d33885-5615-44fa-9e3d-ee363e808dbf"
      },
      "execution_count": 5,
      "outputs": [
        {
          "output_type": "display_data",
          "data": {
            "text/plain": [
              "<Figure size 720x504 with 1 Axes>"
            ],
            "image/png": "[encoded data removed]"
          },
          "metadata": {
            "needs_background": "light"
          }
        }
      ]
    },
    {
      "cell_type": "code",
      "source": [
        "#Make predictions with models\n",
        "with torch.inference_mode():\n",
        "  y_preds = model_0(X_test)\n",
        "y_preds\n",
        "\n",
        "plot_predictions(predictions=y_preds)"
      ],
      "metadata": {
        "colab": {
          "base_uri": "https://localhost:8080/",
          "height": 428
        },
        "id": "htMyttz4VWXi",
        "outputId": "0a41da31-cb27-4d53-eb1f-f6cc3c879c90"
      },
      "execution_count": 6,
      "outputs": [
        {
          "output_type": "display_data",
          "data": {
            "text/plain": [
              "<Figure size 720x504 with 1 Axes>"
            ],
            "image/png": "[encoded data removed]"
          },
          "metadata": {
            "needs_background": "light"
          }
        }
      ]
    },
    {
      "cell_type": "code",
      "source": [
        "import torch\n",
        "import torch.nn as nn\n",
        "#setup a loss fun.\n",
        "loss_fn = nn.L1Loss()\n",
        "#setup an optimizer.\n",
        "optimizer = torch.optim.SGD(params = model_0.parameters(),\n",
        "                           lr = 0.1) #lr is hyperparameter"
      ],
      "metadata": {
        "id": "-xqhIPHLZZ0W"
      },
      "execution_count": 7,
      "outputs": []
    },
    {
      "cell_type": "code",
      "source": [
        "torch.randn(1)"
      ],
      "metadata": {
        "colab": {
          "base_uri": "https://localhost:8080/"
        },
        "id": "6tFS1FtqTZMc",
        "outputId": "618d3af9-53e0-42de-ae39-b83c7d6f631c"
      },
      "execution_count": 8,
      "outputs": [
        {
          "output_type": "execute_result",
          "data": {
            "text/plain": [
              "tensor([0.2345])"
            ]
          },
          "metadata": {},
          "execution_count": 8
        }
      ]
    },
    {
      "cell_type": "code",
      "source": [
        "# 5 Building blocks for creating a NN or Computaional Graph\n",
        "\n",
        "#1.torch.nn\n",
        "#2.torch.nn.Parameter\n",
        "#3.torch.nn.Module\n",
        "#4.torch.optim\n",
        "#5.def forward()\n",
        "#6.torch.utils.data.Dataset\n",
        "#7.torch.utils.data.DataLoader\n"
      ],
      "metadata": {
        "id": "S2YrB0n-NXIH"
      },
      "execution_count": 9,
      "outputs": []
    },
    {
      "cell_type": "code",
      "source": [
        "#Building a training loop and a testing loop in pytorch.\n",
        "torch.manual_seed(42)\n",
        "#An epoc is the one loop through the data, it is hyperparameter because we set it\n",
        "#explicitly.\n",
        "epochs = 200\n",
        "epoch_count = []\n",
        "loss_values = []\n",
        "test_loss_values = []\n",
        "\n",
        "\n",
        "#Training\n",
        "\n",
        "#0. loop through the data\n",
        "for epoch in range(epochs):\n",
        "     #1. set the model to training mode\n",
        "    model_0.train() #gradients on\n",
        "    \n",
        "    #1. forward propagation\n",
        "    y_pred = model_0(X_train)\n",
        "\n",
        "    #2. calculate loss\n",
        "    loss = loss_fn(y_pred, y_train)\n",
        "    print(f\"Loss: {loss}\")\n",
        "\n",
        "    #3. optimizer zero grad\n",
        "    optimizer.zero_grad()\n",
        "\n",
        "    #4. perform backpropagation w.r.t. to model parameters\n",
        "    loss.backward()\n",
        "\n",
        "   #5. Step the optimizer, perform GD\n",
        "    optimizer.step()\n",
        "\n",
        "   #Testing\n",
        "\n",
        "    model_0.eval()\n",
        "    with torch.inference_mode():\n",
        "      #1. Do the Forward propagation.\n",
        "      test_pred = model_0(X_test)\n",
        "      #2. Loss Calcuation.\n",
        "      test_loss = loss_fn(test_pred, y_test) \n",
        "\n",
        "    if epoch % 10 == 0:\n",
        "     epoch_count.append(epoch)\n",
        "     loss_values.append(loss)\n",
        "     test_loss_values.append(test_loss)\n",
        "     print(f\"Epoch:{epoch} | Loss:{loss} | Test loss: {test_loss}\")\n",
        "     #print model state_dict()\n",
        "     print(model_0.state_dict())  \n",
        "\n"
      ],
      "metadata": {
        "colab": {
          "base_uri": "https://localhost:8080/"
        },
        "id": "_RTGLv7juT5s",
        "outputId": "72632100-2d0a-46e0-8fc7-ff46442617d8"
      },
      "execution_count": 10,
      "outputs": [
        {
          "output_type": "stream",
          "name": "stdout",
          "text": [
            "Loss: 0.31288138031959534\n",
            "Epoch:0 | Loss:0.31288138031959534 | Test loss: 0.35982614755630493\n",
            "OrderedDict([('weights', tensor([0.3757])), ('bias', tensor([0.2288]))])\n",
            "Loss: 0.1976713389158249\n",
            "Loss: 0.08682452142238617\n",
            "Loss: 0.04956193268299103\n",
            "Loss: 0.04610266909003258\n",
            "Loss: 0.04258420318365097\n",
            "Loss: 0.03921257331967354\n",
            "Loss: 0.03573219105601311\n",
            "Loss: 0.032322462648153305\n",
            "Loss: 0.028880193829536438\n",
            "Loss: 0.025432366877794266\n",
            "Epoch:10 | Loss:0.025432366877794266 | Test loss: 0.05427704378962517\n",
            "OrderedDict([('weights', tensor([0.5898])), ('bias', tensor([0.3438]))])\n",
            "Loss: 0.022041911259293556\n",
            "Loss: 0.019071225076913834\n",
            "Loss: 0.018788114190101624\n",
            "Loss: 0.039773717522621155\n",
            "Loss: 0.07543627172708511\n",
            "Loss: 0.039773717522621155\n",
            "Loss: 0.07543627172708511\n",
            "Loss: 0.039773717522621155\n",
            "Loss: 0.07543627172708511\n",
            "Loss: 0.039773717522621155\n",
            "Epoch:20 | Loss:0.039773717522621155 | Test loss: 0.11934101581573486\n",
            "OrderedDict([('weights', tensor([0.6122])), ('bias', tensor([0.2588]))])\n",
            "Loss: 0.07543627172708511\n",
            "Loss: 0.039773717522621155\n",
            "Loss: 0.07543627172708511\n",
            "Loss: 0.039773717522621155\n",
            "Loss: 0.07543627172708511\n",
            "Loss: 0.039773717522621155\n",
            "Loss: 0.07543627172708511\n",
            "Loss: 0.039773717522621155\n",
            "Loss: 0.07543627172708511\n",
            "Loss: 0.039773717522621155\n",
            "Epoch:30 | Loss:0.039773717522621155 | Test loss: 0.11934101581573486\n",
            "OrderedDict([('weights', tensor([0.6122])), ('bias', tensor([0.2588]))])\n",
            "Loss: 0.07543627172708511\n",
            "Loss: 0.039773717522621155\n",
            "Loss: 0.07543627172708511\n",
            "Loss: 0.039773717522621155\n",
            "Loss: 0.07543627172708511\n",
            "Loss: 0.039773717522621155\n",
            "Loss: 0.07543627172708511\n",
            "Loss: 0.039773717522621155\n",
            "Loss: 0.07543627172708511\n",
            "Loss: 0.039773717522621155\n",
            "Epoch:40 | Loss:0.039773717522621155 | Test loss: 0.11934101581573486\n",
            "OrderedDict([('weights', tensor([0.6122])), ('bias', tensor([0.2588]))])\n",
            "Loss: 0.07543627172708511\n",
            "Loss: 0.039773717522621155\n",
            "Loss: 0.07543627172708511\n",
            "Loss: 0.039773717522621155\n",
            "Loss: 0.07543627172708511\n",
            "Loss: 0.039773717522621155\n",
            "Loss: 0.07543627172708511\n",
            "Loss: 0.039773717522621155\n",
            "Loss: 0.07543627172708511\n",
            "Loss: 0.039773717522621155\n",
            "Epoch:50 | Loss:0.039773717522621155 | Test loss: 0.11934101581573486\n",
            "OrderedDict([('weights', tensor([0.6122])), ('bias', tensor([0.2588]))])\n",
            "Loss: 0.07543627172708511\n",
            "Loss: 0.039773717522621155\n",
            "Loss: 0.07543627172708511\n",
            "Loss: 0.039773717522621155\n",
            "Loss: 0.07543627172708511\n",
            "Loss: 0.039773717522621155\n",
            "Loss: 0.07543627172708511\n",
            "Loss: 0.039773717522621155\n",
            "Loss: 0.07543627172708511\n",
            "Loss: 0.039773717522621155\n",
            "Epoch:60 | Loss:0.039773717522621155 | Test loss: 0.11934101581573486\n",
            "OrderedDict([('weights', tensor([0.6122])), ('bias', tensor([0.2588]))])\n",
            "Loss: 0.07543627172708511\n",
            "Loss: 0.039773717522621155\n",
            "Loss: 0.07543627172708511\n",
            "Loss: 0.039773717522621155\n",
            "Loss: 0.07543627172708511\n",
            "Loss: 0.039773717522621155\n",
            "Loss: 0.07543627172708511\n",
            "Loss: 0.039773717522621155\n",
            "Loss: 0.07543627172708511\n",
            "Loss: 0.039773717522621155\n",
            "Epoch:70 | Loss:0.039773717522621155 | Test loss: 0.11934101581573486\n",
            "OrderedDict([('weights', tensor([0.6122])), ('bias', tensor([0.2588]))])\n",
            "Loss: 0.07543627172708511\n",
            "Loss: 0.039773717522621155\n",
            "Loss: 0.07543627172708511\n",
            "Loss: 0.039773717522621155\n",
            "Loss: 0.07543627172708511\n",
            "Loss: 0.039773717522621155\n",
            "Loss: 0.07543627172708511\n",
            "Loss: 0.039773717522621155\n",
            "Loss: 0.07543627172708511\n",
            "Loss: 0.039773717522621155\n",
            "Epoch:80 | Loss:0.039773717522621155 | Test loss: 0.11934101581573486\n",
            "OrderedDict([('weights', tensor([0.6122])), ('bias', tensor([0.2588]))])\n",
            "Loss: 0.07543627172708511\n",
            "Loss: 0.039773717522621155\n",
            "Loss: 0.07543627172708511\n",
            "Loss: 0.039773717522621155\n",
            "Loss: 0.07543627172708511\n",
            "Loss: 0.039773717522621155\n",
            "Loss: 0.07543627172708511\n",
            "Loss: 0.039773717522621155\n",
            "Loss: 0.07543627172708511\n",
            "Loss: 0.039773717522621155\n",
            "Epoch:90 | Loss:0.039773717522621155 | Test loss: 0.11934101581573486\n",
            "OrderedDict([('weights', tensor([0.6122])), ('bias', tensor([0.2588]))])\n",
            "Loss: 0.07543627172708511\n",
            "Loss: 0.039773717522621155\n",
            "Loss: 0.07543627172708511\n",
            "Loss: 0.039773717522621155\n",
            "Loss: 0.07543627172708511\n",
            "Loss: 0.039773717522621155\n",
            "Loss: 0.07543627172708511\n",
            "Loss: 0.039773717522621155\n",
            "Loss: 0.07543627172708511\n",
            "Loss: 0.039773717522621155\n",
            "Epoch:100 | Loss:0.039773717522621155 | Test loss: 0.11934101581573486\n",
            "OrderedDict([('weights', tensor([0.6122])), ('bias', tensor([0.2588]))])\n",
            "Loss: 0.07543627172708511\n",
            "Loss: 0.039773717522621155\n",
            "Loss: 0.07543627172708511\n",
            "Loss: 0.039773717522621155\n",
            "Loss: 0.07543627172708511\n",
            "Loss: 0.039773717522621155\n",
            "Loss: 0.07543627172708511\n",
            "Loss: 0.039773717522621155\n",
            "Loss: 0.07543627172708511\n",
            "Loss: 0.039773717522621155\n",
            "Epoch:110 | Loss:0.039773717522621155 | Test loss: 0.11934101581573486\n",
            "OrderedDict([('weights', tensor([0.6122])), ('bias', tensor([0.2588]))])\n",
            "Loss: 0.07543627172708511\n",
            "Loss: 0.039773717522621155\n",
            "Loss: 0.07543627172708511\n",
            "Loss: 0.039773717522621155\n",
            "Loss: 0.07543627172708511\n",
            "Loss: 0.039773717522621155\n",
            "Loss: 0.07543627172708511\n",
            "Loss: 0.039773717522621155\n",
            "Loss: 0.07543627172708511\n",
            "Loss: 0.039773717522621155\n",
            "Epoch:120 | Loss:0.039773717522621155 | Test loss: 0.11934101581573486\n",
            "OrderedDict([('weights', tensor([0.6122])), ('bias', tensor([0.2588]))])\n",
            "Loss: 0.07543627172708511\n",
            "Loss: 0.039773717522621155\n",
            "Loss: 0.07543627172708511\n",
            "Loss: 0.039773717522621155\n",
            "Loss: 0.07543627172708511\n",
            "Loss: 0.039773717522621155\n",
            "Loss: 0.07543627172708511\n",
            "Loss: 0.039773717522621155\n",
            "Loss: 0.07543627172708511\n",
            "Loss: 0.039773717522621155\n",
            "Epoch:130 | Loss:0.039773717522621155 | Test loss: 0.11934101581573486\n",
            "OrderedDict([('weights', tensor([0.6122])), ('bias', tensor([0.2588]))])\n",
            "Loss: 0.07543627172708511\n",
            "Loss: 0.039773717522621155\n",
            "Loss: 0.07543627172708511\n",
            "Loss: 0.039773717522621155\n",
            "Loss: 0.07543627172708511\n",
            "Loss: 0.039773717522621155\n",
            "Loss: 0.07543627172708511\n",
            "Loss: 0.039773717522621155\n",
            "Loss: 0.07543627172708511\n",
            "Loss: 0.039773717522621155\n",
            "Epoch:140 | Loss:0.039773717522621155 | Test loss: 0.11934101581573486\n",
            "OrderedDict([('weights', tensor([0.6122])), ('bias', tensor([0.2588]))])\n",
            "Loss: 0.07543627172708511\n",
            "Loss: 0.039773717522621155\n",
            "Loss: 0.07543627172708511\n",
            "Loss: 0.039773717522621155\n",
            "Loss: 0.07543627172708511\n",
            "Loss: 0.039773717522621155\n",
            "Loss: 0.07543627172708511\n",
            "Loss: 0.039773717522621155\n",
            "Loss: 0.07543627172708511\n",
            "Loss: 0.039773717522621155\n",
            "Epoch:150 | Loss:0.039773717522621155 | Test loss: 0.11934101581573486\n",
            "OrderedDict([('weights', tensor([0.6122])), ('bias', tensor([0.2588]))])\n",
            "Loss: 0.07543627172708511\n",
            "Loss: 0.039773717522621155\n",
            "Loss: 0.07543627172708511\n",
            "Loss: 0.039773717522621155\n",
            "Loss: 0.07543627172708511\n",
            "Loss: 0.039773717522621155\n",
            "Loss: 0.07543627172708511\n",
            "Loss: 0.039773717522621155\n",
            "Loss: 0.07543627172708511\n",
            "Loss: 0.039773717522621155\n",
            "Epoch:160 | Loss:0.039773717522621155 | Test loss: 0.11934101581573486\n",
            "OrderedDict([('weights', tensor([0.6122])), ('bias', tensor([0.2588]))])\n",
            "Loss: 0.07543627172708511\n",
            "Loss: 0.039773717522621155\n",
            "Loss: 0.07543627172708511\n",
            "Loss: 0.039773717522621155\n",
            "Loss: 0.07543627172708511\n",
            "Loss: 0.039773717522621155\n",
            "Loss: 0.07543627172708511\n",
            "Loss: 0.039773717522621155\n",
            "Loss: 0.07543627172708511\n",
            "Loss: 0.039773717522621155\n",
            "Epoch:170 | Loss:0.039773717522621155 | Test loss: 0.11934101581573486\n",
            "OrderedDict([('weights', tensor([0.6122])), ('bias', tensor([0.2588]))])\n",
            "Loss: 0.07543627172708511\n",
            "Loss: 0.039773717522621155\n",
            "Loss: 0.07543627172708511\n",
            "Loss: 0.039773717522621155\n",
            "Loss: 0.07543627172708511\n",
            "Loss: 0.039773717522621155\n",
            "Loss: 0.07543627172708511\n",
            "Loss: 0.039773717522621155\n",
            "Loss: 0.07543627172708511\n",
            "Loss: 0.039773717522621155\n",
            "Epoch:180 | Loss:0.039773717522621155 | Test loss: 0.11934101581573486\n",
            "OrderedDict([('weights', tensor([0.6122])), ('bias', tensor([0.2588]))])\n",
            "Loss: 0.07543627172708511\n",
            "Loss: 0.039773717522621155\n",
            "Loss: 0.07543627172708511\n",
            "Loss: 0.039773717522621155\n",
            "Loss: 0.07543627172708511\n",
            "Loss: 0.039773717522621155\n",
            "Loss: 0.07543627172708511\n",
            "Loss: 0.039773717522621155\n",
            "Loss: 0.07543627172708511\n",
            "Loss: 0.039773717522621155\n",
            "Epoch:190 | Loss:0.039773717522621155 | Test loss: 0.11934101581573486\n",
            "OrderedDict([('weights', tensor([0.6122])), ('bias', tensor([0.2588]))])\n",
            "Loss: 0.07543627172708511\n",
            "Loss: 0.039773717522621155\n",
            "Loss: 0.07543627172708511\n",
            "Loss: 0.039773717522621155\n",
            "Loss: 0.07543627172708511\n",
            "Loss: 0.039773717522621155\n",
            "Loss: 0.07543627172708511\n",
            "Loss: 0.039773717522621155\n",
            "Loss: 0.07543627172708511\n"
          ]
        }
      ]
    },
    {
      "cell_type": "code",
      "source": [
        "with torch.inference_mode():\n",
        "  y_preds_new = model_0(X_test)\n",
        "  "
      ],
      "metadata": {
        "id": "yrMSqiFZGvZn"
      },
      "execution_count": 11,
      "outputs": []
    },
    {
      "cell_type": "code",
      "source": [
        "model_0.state_dict()"
      ],
      "metadata": {
        "colab": {
          "base_uri": "https://localhost:8080/"
        },
        "id": "Zph9hWmAHHRr",
        "outputId": "f8f2b7a4-df79-4727-ae95-8580dfbd95fc"
      },
      "execution_count": 12,
      "outputs": [
        {
          "output_type": "execute_result",
          "data": {
            "text/plain": [
              "OrderedDict([('weights', tensor([0.6512])), ('bias', tensor([0.3588]))])"
            ]
          },
          "metadata": {},
          "execution_count": 12
        }
      ]
    },
    {
      "cell_type": "code",
      "source": [
        "plot_predictions(predictions = y_preds);"
      ],
      "metadata": {
        "colab": {
          "base_uri": "https://localhost:8080/",
          "height": 428
        },
        "id": "kGzXae7oHP4z",
        "outputId": "ae971028-529b-4bd4-ce2e-81cf1884e694"
      },
      "execution_count": 13,
      "outputs": [
        {
          "output_type": "display_data",
          "data": {
            "text/plain": [
              "<Figure size 720x504 with 1 Axes>"
            ],
            "image/png": "[encoded data removed]"
          },
          "metadata": {
            "needs_background": "light"
          }
        }
      ]
    },
    {
      "cell_type": "code",
      "source": [
        "plot_predictions(predictions = y_preds_new);"
      ],
      "metadata": {
        "colab": {
          "base_uri": "https://localhost:8080/",
          "height": 428
        },
        "id": "LFH5mztBHrcj",
        "outputId": "8c3b9eb0-5f3b-4c73-b684-a891436b2b0c"
      },
      "execution_count": 14,
      "outputs": [
        {
          "output_type": "display_data",
          "data": {
            "text/plain": [
              "<Figure size 720x504 with 1 Axes>"
            ],
            "image/png": "[encoded data removed]"
          },
          "metadata": {
            "needs_background": "light"
          }
        }
      ]
    }
  ]
}